{
 "cells": [
  {
   "cell_type": "code",
   "execution_count": 1,
   "metadata": {},
   "outputs": [
    {
     "name": "stdout",
     "output_type": "stream",
     "text": [
      "Collecting notifications\n",
      "  Downloading notifications-0.3.2.tar.gz (5.1 kB)\n",
      "Building wheels for collected packages: notifications\n",
      "  Building wheel for notifications (setup.py): started\n",
      "  Building wheel for notifications (setup.py): finished with status 'done'\n",
      "  Created wheel for notifications: filename=notifications-0.3.2-py3-none-any.whl size=4917 sha256=2e6a6c17036aa241eb4acb991f35eb1a26d785e0df4f089a378cc5b4ddfb33a8\n",
      "  Stored in directory: c:\\users\\acer\\appdata\\local\\pip\\cache\\wheels\\8c\\2c\\a4\\3727698b378a5f595705281ef1511eb758724721c5e5f1540a\n",
      "Successfully built notifications\n",
      "Installing collected packages: notifications\n",
      "Successfully installed notifications-0.3.2\n"
     ]
    }
   ],
   "source": [
    "!pip install notifications"
   ]
  },
  {
   "cell_type": "code",
   "execution_count": 4,
   "metadata": {},
   "outputs": [
    {
     "name": "stdout",
     "output_type": "stream",
     "text": [
      "Collecting plyer\n",
      "  Downloading plyer-2.0.0-py2.py3-none-any.whl (131 kB)\n",
      "Installing collected packages: plyer\n",
      "Successfully installed plyer-2.0.0\n"
     ]
    }
   ],
   "source": [
    "!pip install plyer"
   ]
  },
  {
   "cell_type": "code",
   "execution_count": null,
   "metadata": {},
   "outputs": [],
   "source": [
    "import time\n",
    "from plyer import notification\n",
    "\n",
    "if __name__=='__main__':\n",
    "    while True:\n",
    "        notification.notify(\n",
    "            title = \"Alert!!\",\n",
    "            message = 'Take a break! It is more than an hour!',\n",
    "            timeout = 10)\n",
    "        time.sleep(3600)"
   ]
  },
  {
   "cell_type": "markdown",
   "metadata": {},
   "source": [
    "After running the code, you will continuously receive notifications every hour or until the time you set due to the while loop defined in the code. Hope you liked this article on how to receive desktop notifications with Python. Please feel free to ask your valuable questions in the comments section belo"
   ]
  },
  {
   "cell_type": "code",
   "execution_count": null,
   "metadata": {},
   "outputs": [],
   "source": []
  },
  {
   "cell_type": "code",
   "execution_count": null,
   "metadata": {},
   "outputs": [],
   "source": []
  },
  {
   "cell_type": "code",
   "execution_count": null,
   "metadata": {},
   "outputs": [],
   "source": []
  },
  {
   "cell_type": "code",
   "execution_count": null,
   "metadata": {},
   "outputs": [],
   "source": []
  }
 ],
 "metadata": {
  "kernelspec": {
   "display_name": "python3.7",
   "language": "python",
   "name": "python3.7"
  },
  "language_info": {
   "codemirror_mode": {
    "name": "ipython",
    "version": 3
   },
   "file_extension": ".py",
   "mimetype": "text/x-python",
   "name": "python",
   "nbconvert_exporter": "python",
   "pygments_lexer": "ipython3",
   "version": "3.7.6"
  }
 },
 "nbformat": 4,
 "nbformat_minor": 4
}
