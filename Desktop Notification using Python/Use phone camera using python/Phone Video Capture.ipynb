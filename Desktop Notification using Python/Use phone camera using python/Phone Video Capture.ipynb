{
 "cells": [
  {
   "cell_type": "code",
   "execution_count": 1,
   "metadata": {},
   "outputs": [
    {
     "name": "stdout",
     "output_type": "stream",
     "text": [
      "Collecting Camera\n",
      "  Downloading camera-1.3.0.tar.gz (1.3 kB)\n",
      "Building wheels for collected packages: Camera\n",
      "  Building wheel for Camera (setup.py): started\n",
      "  Building wheel for Camera (setup.py): finished with status 'done'\n",
      "  Created wheel for Camera: filename=camera-1.3.0-py3-none-any.whl size=1806 sha256=67df6025602064202962dc7eb17cd23fcfdb8d91c6f0b12e5b8f808f0e4d3d6c\n",
      "  Stored in directory: c:\\users\\acer\\appdata\\local\\pip\\cache\\wheels\\1a\\5e\\97\\9580dcc74ca691a92792c18942ad3cbf8d2dd89a971e49a259\n",
      "Successfully built Camera\n",
      "Installing collected packages: Camera\n",
      "Successfully installed Camera-1.3.0\n"
     ]
    }
   ],
   "source": [
    "!pip install Camera"
   ]
  },
  {
   "cell_type": "code",
   "execution_count": null,
   "metadata": {},
   "outputs": [],
   "source": [
    "import cv2\n",
    "import numpy as np\n",
    "url = 'Your IP address/video'\n",
    "cp = cv2.VideoCapture(url)\n",
    "while True:\n",
    "    camera, frame = cp.read()\n",
    "    if frame is not None:\n",
    "        cv2.imshow('Frame',frame)\n",
    "    q = cv2.waitKey(1)\n",
    "    if q==ord('q'):\n",
    "        break\n",
    "\n",
    "cv2.destroyAllWindows()"
   ]
  },
  {
   "cell_type": "markdown",
   "metadata": {},
   "source": [
    "In a few moments, an OpenCV window will appear and do the rest. To close the window, just press any key. This is how to connect a phone’s camera with Python for computer vision applications. The next step on how to use this feature depends on how you want to use it."
   ]
  },
  {
   "cell_type": "code",
   "execution_count": null,
   "metadata": {},
   "outputs": [],
   "source": []
  },
  {
   "cell_type": "code",
   "execution_count": null,
   "metadata": {},
   "outputs": [],
   "source": []
  },
  {
   "cell_type": "code",
   "execution_count": null,
   "metadata": {},
   "outputs": [],
   "source": []
  },
  {
   "cell_type": "code",
   "execution_count": null,
   "metadata": {},
   "outputs": [],
   "source": []
  }
 ],
 "metadata": {
  "kernelspec": {
   "display_name": "python3.7",
   "language": "python",
   "name": "python3.7"
  },
  "language_info": {
   "codemirror_mode": {
    "name": "ipython",
    "version": 3
   },
   "file_extension": ".py",
   "mimetype": "text/x-python",
   "name": "python",
   "nbconvert_exporter": "python",
   "pygments_lexer": "ipython3",
   "version": "3.7.6"
  }
 },
 "nbformat": 4,
 "nbformat_minor": 4
}
